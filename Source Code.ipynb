{
 "cells": [
  {
   "cell_type": "markdown",
   "id": "17716789",
   "metadata": {},
   "source": [
    "# Fake news detection using machine learning"
   ]
  },
  {
   "cell_type": "code",
   "execution_count": 1,
   "id": "43ec6c1f",
   "metadata": {},
   "outputs": [],
   "source": [
    "#importing necessary libraries\n",
    "import pandas as pd\n",
    "from matplotlib import pyplot as plt\n",
    "import seaborn as sns\n",
    "from sklearn.model_selection import train_test_split\n",
    "from sklearn.feature_extraction.text import TfidfVectorizer\n",
    "from sklearn.metrics import accuracy_score, confusion_matrix\n",
    "from sklearn.neighbors import KNeighborsClassifier  \n",
    "from sklearn.linear_model import LogisticRegression\n",
    "from sklearn.linear_model import PassiveAggressiveClassifier"
   ]
  },
  {
   "cell_type": "code",
   "execution_count": 2,
   "id": "1a9ac788",
   "metadata": {},
   "outputs": [],
   "source": [
    "# taking first 100 rows of dataset and storing in a dataframe\n",
    "dataframe_100 = pd.read_csv('fake and real news dataset.csv', nrows=100)"
   ]
  },
  {
   "cell_type": "code",
   "execution_count": 3,
   "id": "5ef04614",
   "metadata": {},
   "outputs": [
    {
     "data": {
      "text/plain": [
       "(100, 4)"
      ]
     },
     "execution_count": 3,
     "metadata": {},
     "output_type": "execute_result"
    }
   ],
   "source": [
    "dataframe_100.shape"
   ]
  },
  {
   "cell_type": "code",
   "execution_count": 4,
   "id": "57a19e57",
   "metadata": {},
   "outputs": [
    {
     "data": {
      "text/html": [
       "<div>\n",
       "<style scoped>\n",
       "    .dataframe tbody tr th:only-of-type {\n",
       "        vertical-align: middle;\n",
       "    }\n",
       "\n",
       "    .dataframe tbody tr th {\n",
       "        vertical-align: top;\n",
       "    }\n",
       "\n",
       "    .dataframe thead th {\n",
       "        text-align: right;\n",
       "    }\n",
       "</style>\n",
       "<table border=\"1\" class=\"dataframe\">\n",
       "  <thead>\n",
       "    <tr style=\"text-align: right;\">\n",
       "      <th></th>\n",
       "      <th>Unnamed: 0</th>\n",
       "      <th>title</th>\n",
       "      <th>text</th>\n",
       "      <th>label</th>\n",
       "    </tr>\n",
       "  </thead>\n",
       "  <tbody>\n",
       "    <tr>\n",
       "      <th>0</th>\n",
       "      <td>8476</td>\n",
       "      <td>You Can Smell Hillary’s Fear</td>\n",
       "      <td>Daniel Greenfield, a Shillman Journalism Fello...</td>\n",
       "      <td>FAKE</td>\n",
       "    </tr>\n",
       "    <tr>\n",
       "      <th>1</th>\n",
       "      <td>10294</td>\n",
       "      <td>Watch The Exact Moment Paul Ryan Committed Pol...</td>\n",
       "      <td>Google Pinterest Digg Linkedin Reddit Stumbleu...</td>\n",
       "      <td>FAKE</td>\n",
       "    </tr>\n",
       "    <tr>\n",
       "      <th>2</th>\n",
       "      <td>3608</td>\n",
       "      <td>Kerry to go to Paris in gesture of sympathy</td>\n",
       "      <td>U.S. Secretary of State John F. Kerry said Mon...</td>\n",
       "      <td>REAL</td>\n",
       "    </tr>\n",
       "    <tr>\n",
       "      <th>3</th>\n",
       "      <td>10142</td>\n",
       "      <td>Bernie supporters on Twitter erupt in anger ag...</td>\n",
       "      <td>— Kaydee King (@KaydeeKing) November 9, 2016 T...</td>\n",
       "      <td>FAKE</td>\n",
       "    </tr>\n",
       "    <tr>\n",
       "      <th>4</th>\n",
       "      <td>875</td>\n",
       "      <td>The Battle of New York: Why This Primary Matters</td>\n",
       "      <td>It's primary day in New York and front-runners...</td>\n",
       "      <td>REAL</td>\n",
       "    </tr>\n",
       "  </tbody>\n",
       "</table>\n",
       "</div>"
      ],
      "text/plain": [
       "   Unnamed: 0                                              title  \\\n",
       "0        8476                       You Can Smell Hillary’s Fear   \n",
       "1       10294  Watch The Exact Moment Paul Ryan Committed Pol...   \n",
       "2        3608        Kerry to go to Paris in gesture of sympathy   \n",
       "3       10142  Bernie supporters on Twitter erupt in anger ag...   \n",
       "4         875   The Battle of New York: Why This Primary Matters   \n",
       "\n",
       "                                                text label  \n",
       "0  Daniel Greenfield, a Shillman Journalism Fello...  FAKE  \n",
       "1  Google Pinterest Digg Linkedin Reddit Stumbleu...  FAKE  \n",
       "2  U.S. Secretary of State John F. Kerry said Mon...  REAL  \n",
       "3  — Kaydee King (@KaydeeKing) November 9, 2016 T...  FAKE  \n",
       "4  It's primary day in New York and front-runners...  REAL  "
      ]
     },
     "execution_count": 4,
     "metadata": {},
     "output_type": "execute_result"
    }
   ],
   "source": [
    "dataframe_100.head()"
   ]
  },
  {
   "cell_type": "code",
   "execution_count": 5,
   "id": "712fc96c",
   "metadata": {},
   "outputs": [
    {
     "data": {
      "text/html": [
       "<div>\n",
       "<style scoped>\n",
       "    .dataframe tbody tr th:only-of-type {\n",
       "        vertical-align: middle;\n",
       "    }\n",
       "\n",
       "    .dataframe tbody tr th {\n",
       "        vertical-align: top;\n",
       "    }\n",
       "\n",
       "    .dataframe thead th {\n",
       "        text-align: right;\n",
       "    }\n",
       "</style>\n",
       "<table border=\"1\" class=\"dataframe\">\n",
       "  <thead>\n",
       "    <tr style=\"text-align: right;\">\n",
       "      <th></th>\n",
       "      <th>Unnamed: 0</th>\n",
       "      <th>title</th>\n",
       "      <th>text</th>\n",
       "      <th>label</th>\n",
       "    </tr>\n",
       "  </thead>\n",
       "  <tbody>\n",
       "    <tr>\n",
       "      <th>95</th>\n",
       "      <td>8290</td>\n",
       "      <td>The Mandela Effect was made by one overlooked ...</td>\n",
       "      <td>link There is simply no more denying, for mill...</td>\n",
       "      <td>FAKE</td>\n",
       "    </tr>\n",
       "    <tr>\n",
       "      <th>96</th>\n",
       "      <td>6227</td>\n",
       "      <td>CNN: One voter can make a difference by voting...</td>\n",
       "      <td>Channel list \\nFollowing hurricane Matthew's f...</td>\n",
       "      <td>FAKE</td>\n",
       "    </tr>\n",
       "    <tr>\n",
       "      <th>97</th>\n",
       "      <td>3255</td>\n",
       "      <td>Give Social Security recipients a CEO-style raise</td>\n",
       "      <td>(CNN) On Veterans Day we recognize and honor t...</td>\n",
       "      <td>REAL</td>\n",
       "    </tr>\n",
       "    <tr>\n",
       "      <th>98</th>\n",
       "      <td>3177</td>\n",
       "      <td>Fireworks erupt between Trump and Bush, Rubio ...</td>\n",
       "      <td>Sparks flew at the toughest and liveliest GOP ...</td>\n",
       "      <td>REAL</td>\n",
       "    </tr>\n",
       "    <tr>\n",
       "      <th>99</th>\n",
       "      <td>2832</td>\n",
       "      <td>Obama, sounding like his critics, admits no 'c...</td>\n",
       "      <td>The online comment fits closely with his campa...</td>\n",
       "      <td>REAL</td>\n",
       "    </tr>\n",
       "  </tbody>\n",
       "</table>\n",
       "</div>"
      ],
      "text/plain": [
       "    Unnamed: 0                                              title  \\\n",
       "95        8290  The Mandela Effect was made by one overlooked ...   \n",
       "96        6227  CNN: One voter can make a difference by voting...   \n",
       "97        3255  Give Social Security recipients a CEO-style raise   \n",
       "98        3177  Fireworks erupt between Trump and Bush, Rubio ...   \n",
       "99        2832  Obama, sounding like his critics, admits no 'c...   \n",
       "\n",
       "                                                 text label  \n",
       "95  link There is simply no more denying, for mill...  FAKE  \n",
       "96  Channel list \\nFollowing hurricane Matthew's f...  FAKE  \n",
       "97  (CNN) On Veterans Day we recognize and honor t...  REAL  \n",
       "98  Sparks flew at the toughest and liveliest GOP ...  REAL  \n",
       "99  The online comment fits closely with his campa...  REAL  "
      ]
     },
     "execution_count": 5,
     "metadata": {},
     "output_type": "execute_result"
    }
   ],
   "source": [
    "dataframe_100.tail()"
   ]
  },
  {
   "cell_type": "code",
   "execution_count": 6,
   "id": "0729e0db",
   "metadata": {},
   "outputs": [
    {
     "data": {
      "text/plain": [
       "Text(0.5, 1.0, 'No. of fake and real news in first 100 rows')"
      ]
     },
     "execution_count": 6,
     "metadata": {},
     "output_type": "execute_result"
    },
    {
     "data": {
      "image/png": "[encoded data removed]",
      "text/plain": [
       "<Figure size 432x288 with 1 Axes>"
      ]
     },
     "metadata": {
      "needs_background": "light"
     },
     "output_type": "display_data"
    }
   ],
   "source": [
    "dataframe_100['label'].value_counts().plot(kind='bar')\n",
    "plt.title('No. of fake and real news in first 100 rows')"
   ]
  },
  {
   "cell_type": "code",
   "execution_count": 7,
   "id": "e225a0e5",
   "metadata": {},
   "outputs": [
    {
     "data": {
      "text/plain": [
       "Text(0.5, 1.0, 'percentage of fake and real news in first 100 rows')"
      ]
     },
     "execution_count": 7,
     "metadata": {},
     "output_type": "execute_result"
    },
    {
     "data": {
      "image/png": "[encoded data removed]",
      "text/plain": [
       "<Figure size 432x288 with 1 Axes>"
      ]
     },
     "metadata": {
      "needs_background": "light"
     },
     "output_type": "display_data"
    }
   ],
   "source": [
    "dataframe_100['label'].value_counts(normalize=True).plot(kind='bar')\n",
    "plt.title('percentage of fake and real news in first 100 rows')"
   ]
  },
  {
   "cell_type": "code",
   "execution_count": 8,
   "id": "d6eedacc",
   "metadata": {},
   "outputs": [],
   "source": [
    "x_100 = dataframe_100['text']\n",
    "y_100 = dataframe_100['label']"
   ]
  },
  {
   "cell_type": "code",
   "execution_count": 9,
   "id": "9d3e87a4",
   "metadata": {},
   "outputs": [
    {
     "data": {
      "text/plain": [
       "0     Daniel Greenfield, a Shillman Journalism Fello...\n",
       "1     Google Pinterest Digg Linkedin Reddit Stumbleu...\n",
       "2     U.S. Secretary of State John F. Kerry said Mon...\n",
       "3     — Kaydee King (@KaydeeKing) November 9, 2016 T...\n",
       "4     It's primary day in New York and front-runners...\n",
       "                            ...                        \n",
       "95    link There is simply no more denying, for mill...\n",
       "96    Channel list \\nFollowing hurricane Matthew's f...\n",
       "97    (CNN) On Veterans Day we recognize and honor t...\n",
       "98    Sparks flew at the toughest and liveliest GOP ...\n",
       "99    The online comment fits closely with his campa...\n",
       "Name: text, Length: 100, dtype: object"
      ]
     },
     "execution_count": 9,
     "metadata": {},
     "output_type": "execute_result"
    }
   ],
   "source": [
    "x_100"
   ]
  },
  {
   "cell_type": "code",
   "execution_count": 10,
   "id": "4fcc3fb7",
   "metadata": {},
   "outputs": [
    {
     "data": {
      "text/plain": [
       "0     FAKE\n",
       "1     FAKE\n",
       "2     REAL\n",
       "3     FAKE\n",
       "4     REAL\n",
       "      ... \n",
       "95    FAKE\n",
       "96    FAKE\n",
       "97    REAL\n",
       "98    REAL\n",
       "99    REAL\n",
       "Name: label, Length: 100, dtype: object"
      ]
     },
     "execution_count": 10,
     "metadata": {},
     "output_type": "execute_result"
    }
   ],
   "source": [
    "y_100"
   ]
  },
  {
   "cell_type": "code",
   "execution_count": 11,
   "id": "a775dfe8",
   "metadata": {},
   "outputs": [],
   "source": [
    "#spliting the dataset into 80% for training and 20% for testing\n",
    "x_100_train,x_100_test,y_100_train,y_100_test = train_test_split(x_100,y_100,test_size=0.2,random_state=0)"
   ]
  },
  {
   "cell_type": "code",
   "execution_count": 12,
   "id": "1f0bee34",
   "metadata": {},
   "outputs": [
    {
     "data": {
      "text/plain": [
       "(80,)"
      ]
     },
     "execution_count": 12,
     "metadata": {},
     "output_type": "execute_result"
    }
   ],
   "source": [
    "x_100_train.shape"
   ]
  },
  {
   "cell_type": "code",
   "execution_count": 13,
   "id": "ba81d776",
   "metadata": {},
   "outputs": [
    {
     "data": {
      "text/plain": [
       "43    Homeless Woman Protects Trump’s Walk of Fame S...\n",
       "62    Buried beneath Wednesday's eye-popping headlin...\n",
       "3     — Kaydee King (@KaydeeKing) November 9, 2016 T...\n",
       "71    Radio Aryan October 28, 2016 \\nSven Longshanks...\n",
       "45    By Dan Zukowski\\nThree major U.S. pipeline spi...\n",
       "                            ...                        \n",
       "96    Channel list \\nFollowing hurricane Matthew's f...\n",
       "67    GOP opposes the kind of antitrust regulation t...\n",
       "64    While the country has been fixated on Donald T...\n",
       "47    The move would make it easier for the Trump ad...\n",
       "44    WHITE PLAINS, N.Y. — Not to be outdone by her ...\n",
       "Name: text, Length: 80, dtype: object"
      ]
     },
     "execution_count": 13,
     "metadata": {},
     "output_type": "execute_result"
    }
   ],
   "source": [
    "x_100_train"
   ]
  },
  {
   "cell_type": "code",
   "execution_count": 14,
   "id": "5603e2ff",
   "metadata": {},
   "outputs": [
    {
     "data": {
      "text/plain": [
       "43    FAKE\n",
       "62    REAL\n",
       "3     FAKE\n",
       "71    FAKE\n",
       "45    FAKE\n",
       "      ... \n",
       "96    FAKE\n",
       "67    REAL\n",
       "64    REAL\n",
       "47    REAL\n",
       "44    REAL\n",
       "Name: label, Length: 80, dtype: object"
      ]
     },
     "execution_count": 14,
     "metadata": {},
     "output_type": "execute_result"
    }
   ],
   "source": [
    "y_100_train"
   ]
  },
  {
   "cell_type": "code",
   "execution_count": 15,
   "id": "16d63400",
   "metadata": {},
   "outputs": [],
   "source": [
    "tfvect = TfidfVectorizer(stop_words='english',max_df=0.7)"
   ]
  },
  {
   "cell_type": "code",
   "execution_count": 16,
   "id": "3ef75973",
   "metadata": {},
   "outputs": [],
   "source": [
    "tfid_x_100_train = tfvect.fit_transform(x_100_train)\n",
    "tfid_x_100_test = tfvect.transform(x_100_test)"
   ]
  },
  {
   "cell_type": "code",
   "execution_count": null,
   "id": "97fd2cb6",
   "metadata": {},
   "outputs": [],
   "source": []
  },
  {
   "cell_type": "code",
   "execution_count": 17,
   "id": "fe8044b0",
   "metadata": {},
   "outputs": [
    {
     "data": {
      "text/plain": [
       "(6335, 4)"
      ]
     },
     "execution_count": 17,
     "metadata": {},
     "output_type": "execute_result"
    }
   ],
   "source": [
    "#taking whole dataset and storing in a dataframe\n",
    "dataframe = pd.read_csv('fake and real news dataset.csv')\n",
    "dataframe.shape"
   ]
  },
  {
   "cell_type": "code",
   "execution_count": 18,
   "id": "cf095b77",
   "metadata": {},
   "outputs": [
    {
     "data": {
      "text/plain": [
       "Text(0.5, 1.0, 'No. of fake and real news in whole dataset')"
      ]
     },
     "execution_count": 18,
     "metadata": {},
     "output_type": "execute_result"
    },
    {
     "data": {
      "image/png": "[encoded data removed]",
      "text/plain": [
       "<Figure size 432x288 with 1 Axes>"
      ]
     },
     "metadata": {
      "needs_background": "light"
     },
     "output_type": "display_data"
    }
   ],
   "source": [
    "dataframe['label'].value_counts().plot(kind='bar')\n",
    "plt.title('No. of fake and real news in whole dataset')"
   ]
  },
  {
   "cell_type": "code",
   "execution_count": 19,
   "id": "01e89800",
   "metadata": {},
   "outputs": [
    {
     "data": {
      "text/plain": [
       "Text(0.5, 1.0, 'Percentage of fake and real news in whole dataset')"
      ]
     },
     "execution_count": 19,
     "metadata": {},
     "output_type": "execute_result"
    },
    {
     "data": {
      "image/png": "[encoded data removed]",
      "text/plain": [
       "<Figure size 432x288 with 1 Axes>"
      ]
     },
     "metadata": {
      "needs_background": "light"
     },
     "output_type": "display_data"
    }
   ],
   "source": [
    "dataframe['label'].value_counts(normalize=True).plot(kind='bar')\n",
    "plt.title('Percentage of fake and real news in whole dataset')"
   ]
  },
  {
   "cell_type": "code",
   "execution_count": 20,
   "id": "6e98ebb4",
   "metadata": {},
   "outputs": [
    {
     "data": {
      "text/html": [
       "<div>\n",
       "<style scoped>\n",
       "    .dataframe tbody tr th:only-of-type {\n",
       "        vertical-align: middle;\n",
       "    }\n",
       "\n",
       "    .dataframe tbody tr th {\n",
       "        vertical-align: top;\n",
       "    }\n",
       "\n",
       "    .dataframe thead th {\n",
       "        text-align: right;\n",
       "    }\n",
       "</style>\n",
       "<table border=\"1\" class=\"dataframe\">\n",
       "  <thead>\n",
       "    <tr style=\"text-align: right;\">\n",
       "      <th></th>\n",
       "      <th>Unnamed: 0</th>\n",
       "      <th>title</th>\n",
       "      <th>text</th>\n",
       "      <th>label</th>\n",
       "    </tr>\n",
       "  </thead>\n",
       "  <tbody>\n",
       "    <tr>\n",
       "      <th>0</th>\n",
       "      <td>8476</td>\n",
       "      <td>You Can Smell Hillary’s Fear</td>\n",
       "      <td>Daniel Greenfield, a Shillman Journalism Fello...</td>\n",
       "      <td>FAKE</td>\n",
       "    </tr>\n",
       "    <tr>\n",
       "      <th>1</th>\n",
       "      <td>10294</td>\n",
       "      <td>Watch The Exact Moment Paul Ryan Committed Pol...</td>\n",
       "      <td>Google Pinterest Digg Linkedin Reddit Stumbleu...</td>\n",
       "      <td>FAKE</td>\n",
       "    </tr>\n",
       "    <tr>\n",
       "      <th>2</th>\n",
       "      <td>3608</td>\n",
       "      <td>Kerry to go to Paris in gesture of sympathy</td>\n",
       "      <td>U.S. Secretary of State John F. Kerry said Mon...</td>\n",
       "      <td>REAL</td>\n",
       "    </tr>\n",
       "    <tr>\n",
       "      <th>3</th>\n",
       "      <td>10142</td>\n",
       "      <td>Bernie supporters on Twitter erupt in anger ag...</td>\n",
       "      <td>— Kaydee King (@KaydeeKing) November 9, 2016 T...</td>\n",
       "      <td>FAKE</td>\n",
       "    </tr>\n",
       "    <tr>\n",
       "      <th>4</th>\n",
       "      <td>875</td>\n",
       "      <td>The Battle of New York: Why This Primary Matters</td>\n",
       "      <td>It's primary day in New York and front-runners...</td>\n",
       "      <td>REAL</td>\n",
       "    </tr>\n",
       "  </tbody>\n",
       "</table>\n",
       "</div>"
      ],
      "text/plain": [
       "   Unnamed: 0                                              title  \\\n",
       "0        8476                       You Can Smell Hillary’s Fear   \n",
       "1       10294  Watch The Exact Moment Paul Ryan Committed Pol...   \n",
       "2        3608        Kerry to go to Paris in gesture of sympathy   \n",
       "3       10142  Bernie supporters on Twitter erupt in anger ag...   \n",
       "4         875   The Battle of New York: Why This Primary Matters   \n",
       "\n",
       "                                                text label  \n",
       "0  Daniel Greenfield, a Shillman Journalism Fello...  FAKE  \n",
       "1  Google Pinterest Digg Linkedin Reddit Stumbleu...  FAKE  \n",
       "2  U.S. Secretary of State John F. Kerry said Mon...  REAL  \n",
       "3  — Kaydee King (@KaydeeKing) November 9, 2016 T...  FAKE  \n",
       "4  It's primary day in New York and front-runners...  REAL  "
      ]
     },
     "execution_count": 20,
     "metadata": {},
     "output_type": "execute_result"
    }
   ],
   "source": [
    "dataframe.head()"
   ]
  },
  {
   "cell_type": "code",
   "execution_count": 21,
   "id": "0bfc721a",
   "metadata": {},
   "outputs": [
    {
     "data": {
      "text/html": [
       "<div>\n",
       "<style scoped>\n",
       "    .dataframe tbody tr th:only-of-type {\n",
       "        vertical-align: middle;\n",
       "    }\n",
       "\n",
       "    .dataframe tbody tr th {\n",
       "        vertical-align: top;\n",
       "    }\n",
       "\n",
       "    .dataframe thead th {\n",
       "        text-align: right;\n",
       "    }\n",
       "</style>\n",
       "<table border=\"1\" class=\"dataframe\">\n",
       "  <thead>\n",
       "    <tr style=\"text-align: right;\">\n",
       "      <th></th>\n",
       "      <th>Unnamed: 0</th>\n",
       "      <th>title</th>\n",
       "      <th>text</th>\n",
       "      <th>label</th>\n",
       "    </tr>\n",
       "  </thead>\n",
       "  <tbody>\n",
       "    <tr>\n",
       "      <th>6330</th>\n",
       "      <td>4490</td>\n",
       "      <td>State Department says it can't find emails fro...</td>\n",
       "      <td>The State Department told the Republican Natio...</td>\n",
       "      <td>REAL</td>\n",
       "    </tr>\n",
       "    <tr>\n",
       "      <th>6331</th>\n",
       "      <td>8062</td>\n",
       "      <td>The ‘P’ in PBS Should Stand for ‘Plutocratic’ ...</td>\n",
       "      <td>The ‘P’ in PBS Should Stand for ‘Plutocratic’ ...</td>\n",
       "      <td>FAKE</td>\n",
       "    </tr>\n",
       "    <tr>\n",
       "      <th>6332</th>\n",
       "      <td>8622</td>\n",
       "      <td>Anti-Trump Protesters Are Tools of the Oligarc...</td>\n",
       "      <td>Anti-Trump Protesters Are Tools of the Oligar...</td>\n",
       "      <td>FAKE</td>\n",
       "    </tr>\n",
       "    <tr>\n",
       "      <th>6333</th>\n",
       "      <td>4021</td>\n",
       "      <td>In Ethiopia, Obama seeks progress on peace, se...</td>\n",
       "      <td>ADDIS ABABA, Ethiopia —President Obama convene...</td>\n",
       "      <td>REAL</td>\n",
       "    </tr>\n",
       "    <tr>\n",
       "      <th>6334</th>\n",
       "      <td>4330</td>\n",
       "      <td>Jeb Bush Is Suddenly Attacking Trump. Here's W...</td>\n",
       "      <td>Jeb Bush Is Suddenly Attacking Trump. Here's W...</td>\n",
       "      <td>REAL</td>\n",
       "    </tr>\n",
       "  </tbody>\n",
       "</table>\n",
       "</div>"
      ],
      "text/plain": [
       "      Unnamed: 0                                              title  \\\n",
       "6330        4490  State Department says it can't find emails fro...   \n",
       "6331        8062  The ‘P’ in PBS Should Stand for ‘Plutocratic’ ...   \n",
       "6332        8622  Anti-Trump Protesters Are Tools of the Oligarc...   \n",
       "6333        4021  In Ethiopia, Obama seeks progress on peace, se...   \n",
       "6334        4330  Jeb Bush Is Suddenly Attacking Trump. Here's W...   \n",
       "\n",
       "                                                   text label  \n",
       "6330  The State Department told the Republican Natio...  REAL  \n",
       "6331  The ‘P’ in PBS Should Stand for ‘Plutocratic’ ...  FAKE  \n",
       "6332   Anti-Trump Protesters Are Tools of the Oligar...  FAKE  \n",
       "6333  ADDIS ABABA, Ethiopia —President Obama convene...  REAL  \n",
       "6334  Jeb Bush Is Suddenly Attacking Trump. Here's W...  REAL  "
      ]
     },
     "execution_count": 21,
     "metadata": {},
     "output_type": "execute_result"
    }
   ],
   "source": [
    "dataframe.tail()"
   ]
  },
  {
   "cell_type": "code",
   "execution_count": 22,
   "id": "12de29b9",
   "metadata": {},
   "outputs": [],
   "source": [
    "x = dataframe['text']\n",
    "y = dataframe['label']"
   ]
  },
  {
   "cell_type": "code",
   "execution_count": 23,
   "id": "825ac02e",
   "metadata": {},
   "outputs": [
    {
     "data": {
      "text/plain": [
       "0       Daniel Greenfield, a Shillman Journalism Fello...\n",
       "1       Google Pinterest Digg Linkedin Reddit Stumbleu...\n",
       "2       U.S. Secretary of State John F. Kerry said Mon...\n",
       "3       — Kaydee King (@KaydeeKing) November 9, 2016 T...\n",
       "4       It's primary day in New York and front-runners...\n",
       "                              ...                        \n",
       "6330    The State Department told the Republican Natio...\n",
       "6331    The ‘P’ in PBS Should Stand for ‘Plutocratic’ ...\n",
       "6332     Anti-Trump Protesters Are Tools of the Oligar...\n",
       "6333    ADDIS ABABA, Ethiopia —President Obama convene...\n",
       "6334    Jeb Bush Is Suddenly Attacking Trump. Here's W...\n",
       "Name: text, Length: 6335, dtype: object"
      ]
     },
     "execution_count": 23,
     "metadata": {},
     "output_type": "execute_result"
    }
   ],
   "source": [
    "x"
   ]
  },
  {
   "cell_type": "code",
   "execution_count": 24,
   "id": "984d122b",
   "metadata": {},
   "outputs": [
    {
     "data": {
      "text/plain": [
       "0       FAKE\n",
       "1       FAKE\n",
       "2       REAL\n",
       "3       FAKE\n",
       "4       REAL\n",
       "        ... \n",
       "6330    REAL\n",
       "6331    FAKE\n",
       "6332    FAKE\n",
       "6333    REAL\n",
       "6334    REAL\n",
       "Name: label, Length: 6335, dtype: object"
      ]
     },
     "execution_count": 24,
     "metadata": {},
     "output_type": "execute_result"
    }
   ],
   "source": [
    "y"
   ]
  },
  {
   "cell_type": "code",
   "execution_count": 25,
   "id": "130fed9d",
   "metadata": {},
   "outputs": [],
   "source": [
    "#spliting the dataset into 80% for training and 20% for testing\n",
    "x_train,x_test,y_train,y_test = train_test_split(x,y,test_size=0.2,random_state=0)"
   ]
  },
  {
   "cell_type": "code",
   "execution_count": 26,
   "id": "92b4f152",
   "metadata": {},
   "outputs": [
    {
     "data": {
      "text/plain": [
       "(5068,)"
      ]
     },
     "execution_count": 26,
     "metadata": {},
     "output_type": "execute_result"
    }
   ],
   "source": [
    "x_train.shape"
   ]
  },
  {
   "cell_type": "code",
   "execution_count": 27,
   "id": "5f62d7be",
   "metadata": {},
   "outputs": [
    {
     "data": {
      "text/plain": [
       "(1267,)"
      ]
     },
     "execution_count": 27,
     "metadata": {},
     "output_type": "execute_result"
    }
   ],
   "source": [
    "x_test.shape"
   ]
  },
  {
   "cell_type": "code",
   "execution_count": 28,
   "id": "b636d894",
   "metadata": {},
   "outputs": [
    {
     "data": {
      "text/plain": [
       "2402    Christian Whiton is a former deputy special en...\n",
       "1922    Super Tuesday Brings Harsh Light And Heartache...\n",
       "3475    Prev post Page 1 of 4 Next \\nNurses are among ...\n",
       "6197    The deadly hostage situation at a luxury hotel...\n",
       "4748    Our new country: Women and minorities hit hard...\n",
       "                              ...                        \n",
       "4931    Twenty-two of the 37 corporations nominated fo...\n",
       "3264    As pieces of luggage, human remains, wreckage ...\n",
       "1653    0 Add Comment \\nIN THE immediate aftermath of ...\n",
       "2607    Palestine Palestinians check the flat of Amjad...\n",
       "2732    For the second week in a row, there was a temp...\n",
       "Name: text, Length: 5068, dtype: object"
      ]
     },
     "execution_count": 28,
     "metadata": {},
     "output_type": "execute_result"
    }
   ],
   "source": [
    "x_train"
   ]
  },
  {
   "cell_type": "code",
   "execution_count": 29,
   "id": "6761a27d",
   "metadata": {},
   "outputs": [
    {
     "data": {
      "text/plain": [
       "2402    REAL\n",
       "1922    REAL\n",
       "3475    FAKE\n",
       "6197    REAL\n",
       "4748    FAKE\n",
       "        ... \n",
       "4931    REAL\n",
       "3264    REAL\n",
       "1653    FAKE\n",
       "2607    FAKE\n",
       "2732    REAL\n",
       "Name: label, Length: 5068, dtype: object"
      ]
     },
     "execution_count": 29,
     "metadata": {},
     "output_type": "execute_result"
    }
   ],
   "source": [
    "y_train"
   ]
  },
  {
   "cell_type": "code",
   "execution_count": 30,
   "id": "68c07b66",
   "metadata": {},
   "outputs": [
    {
     "data": {
      "text/plain": [
       "3789    Watch the above reports by CBN's David Brody a...\n",
       "733     — Bernie Sanders (@BernieSanders) October 27, ...\n",
       "4783    \\nAs of October 29, there have been at least 1...\n",
       "3067    Members of Congress have said that if Hillary ...\n",
       "5288    Julian Zelizer is a professor of history and p...\n",
       "                              ...                        \n",
       "5121    On the front lines of the battle against the I...\n",
       "6112    Several gunmen seized a luxury hotel in Mali’s...\n",
       "2661      Paul Joseph Watson Bureaucrat who said “stup...\n",
       "59      Republican presidential front-runner Donald Tr...\n",
       "4573    You can buy snacks, condoms, fishing bait, mar...\n",
       "Name: text, Length: 1267, dtype: object"
      ]
     },
     "execution_count": 30,
     "metadata": {},
     "output_type": "execute_result"
    }
   ],
   "source": [
    "x_test"
   ]
  },
  {
   "cell_type": "code",
   "execution_count": 31,
   "id": "b9f0ebd6",
   "metadata": {},
   "outputs": [
    {
     "data": {
      "text/plain": [
       "3789    REAL\n",
       "733     FAKE\n",
       "4783    FAKE\n",
       "3067    FAKE\n",
       "5288    REAL\n",
       "        ... \n",
       "5121    REAL\n",
       "6112    REAL\n",
       "2661    FAKE\n",
       "59      REAL\n",
       "4573    REAL\n",
       "Name: label, Length: 1267, dtype: object"
      ]
     },
     "execution_count": 31,
     "metadata": {},
     "output_type": "execute_result"
    }
   ],
   "source": [
    "y_test"
   ]
  },
  {
   "cell_type": "code",
   "execution_count": 32,
   "id": "064ae5f4",
   "metadata": {},
   "outputs": [],
   "source": [
    "tfid_x_train = tfvect.fit_transform(x_train)\n",
    "tfid_x_test = tfvect.transform(x_test)"
   ]
  },
  {
   "cell_type": "markdown",
   "id": "2ef662df",
   "metadata": {},
   "source": [
    "# Machine Learning Models & Training of the models"
   ]
  },
  {
   "cell_type": "markdown",
   "id": "920eefcb",
   "metadata": {},
   "source": [
    "## 1. KNN Classifier"
   ]
  },
  {
   "cell_type": "markdown",
   "id": "c5044ee4",
   "metadata": {},
   "source": [
    "### A. Training data size = 80 rows"
   ]
  },
  {
   "cell_type": "code",
   "execution_count": 33,
   "id": "bc6e4cf5",
   "metadata": {},
   "outputs": [],
   "source": [
    "KNN_100_Classifier = KNeighborsClassifier(n_neighbors=5, metric='minkowski', p=2 )"
   ]
  },
  {
   "cell_type": "code",
   "execution_count": 34,
   "id": "32376c15",
   "metadata": {},
   "outputs": [
    {
     "data": {
      "text/plain": [
       "KNeighborsClassifier()"
      ]
     },
     "execution_count": 34,
     "metadata": {},
     "output_type": "execute_result"
    }
   ],
   "source": [
    "KNN_100_Classifier.fit(tfid_x_100_train,y_100_train)"
   ]
  },
  {
   "cell_type": "code",
   "execution_count": 35,
   "id": "1c2c2521",
   "metadata": {},
   "outputs": [
    {
     "name": "stdout",
     "output_type": "stream",
     "text": [
      "score: 0.7\n"
     ]
    }
   ],
   "source": [
    "KNN_y_100_pred = KNN_100_Classifier.predict(tfid_x_100_test)\n",
    "KNN_100_score = accuracy_score(y_100_test,KNN_y_100_pred)\n",
    "print('score:', KNN_100_score)"
   ]
  },
  {
   "cell_type": "code",
   "execution_count": 36,
   "id": "e65ef29c",
   "metadata": {
    "scrolled": true
   },
   "outputs": [
    {
     "name": "stdout",
     "output_type": "stream",
     "text": [
      "Accuracy of KNN classifier is : 70.0 %\n",
      "Confusion matrix of KNN classifier with training data size 80: \n",
      "[[5 4]\n",
      " [2 9]]\n"
     ]
    }
   ],
   "source": [
    "print('Accuracy of KNN classifier is :', round(KNN_100_score*100,2),'%')\n",
    "KNN_100_cf = confusion_matrix(y_100_test,KNN_y_100_pred, labels=['FAKE','REAL'])\n",
    "print(\"Confusion matrix of KNN classifier with training data size 80: \")\n",
    "print(KNN_100_cf)"
   ]
  },
  {
   "cell_type": "code",
   "execution_count": 37,
   "id": "f76131e3",
   "metadata": {},
   "outputs": [
    {
     "data": {
      "image/png": "[encoded data removed]",
      "text/plain": [
       "<Figure size 360x288 with 2 Axes>"
      ]
     },
     "metadata": {
      "needs_background": "light"
     },
     "output_type": "display_data"
    }
   ],
   "source": [
    "plt.figure(figsize=(5,4))\n",
    "sns.heatmap(KNN_100_cf, annot = True, fmt = 'd')\n",
    "plt.title(\"Confusion matrix of KNN classifier with training data size 80\")\n",
    "plt.show()"
   ]
  },
  {
   "cell_type": "markdown",
   "id": "3bb32855",
   "metadata": {},
   "source": [
    "### B. Training data size = 5068 rows"
   ]
  },
  {
   "cell_type": "code",
   "execution_count": 38,
   "id": "71aad720",
   "metadata": {},
   "outputs": [],
   "source": [
    "KNNClassifier = KNeighborsClassifier(n_neighbors=5, metric='minkowski', p=2 )"
   ]
  },
  {
   "cell_type": "code",
   "execution_count": 39,
   "id": "093b447d",
   "metadata": {},
   "outputs": [
    {
     "data": {
      "text/plain": [
       "KNeighborsClassifier()"
      ]
     },
     "execution_count": 39,
     "metadata": {},
     "output_type": "execute_result"
    }
   ],
   "source": [
    "KNNClassifier.fit(tfid_x_train,y_train)"
   ]
  },
  {
   "cell_type": "code",
   "execution_count": 40,
   "id": "90138c3b",
   "metadata": {},
   "outputs": [
    {
     "name": "stdout",
     "output_type": "stream",
     "text": [
      "score: 0.5611681136543015\n"
     ]
    }
   ],
   "source": [
    "KNN_y_pred = KNNClassifier.predict(tfid_x_test)\n",
    "KNN_score = accuracy_score(y_test,KNN_y_pred)\n",
    "print('score:', KNN_score)"
   ]
  },
  {
   "cell_type": "code",
   "execution_count": 41,
   "id": "5505d70c",
   "metadata": {},
   "outputs": [
    {
     "name": "stdout",
     "output_type": "stream",
     "text": [
      "Accuracy of KNN classifier: 56.12 %\n",
      "Confusion matrix of KNN classifier with training data size 5068 :\n",
      "[[615   0]\n",
      " [556  96]]\n"
     ]
    }
   ],
   "source": [
    "print('Accuracy of KNN classifier:', round(KNN_score*100,2),'%')\n",
    "KNN_cf = confusion_matrix(y_test,KNN_y_pred, labels=['FAKE','REAL'])\n",
    "print(\"Confusion matrix of KNN classifier with training data size 5068 :\")\n",
    "print(KNN_cf)"
   ]
  },
  {
   "cell_type": "code",
   "execution_count": 42,
   "id": "00ac942f",
   "metadata": {},
   "outputs": [
    {
     "data": {
      "image/png": "[encoded data removed]",
      "text/plain": [
       "<Figure size 360x288 with 2 Axes>"
      ]
     },
     "metadata": {
      "needs_background": "light"
     },
     "output_type": "display_data"
    }
   ],
   "source": [
    "plt.figure(figsize=(5,4))\n",
    "sns.heatmap(KNN_cf, annot = True, fmt = 'd')\n",
    "plt.title(\"Confusion matrix of KNN classifier with training data size 5068\")\n",
    "plt.show()"
   ]
  },
  {
   "cell_type": "markdown",
   "id": "539c2698",
   "metadata": {},
   "source": [
    "#### ploting graph "
   ]
  },
  {
   "cell_type": "code",
   "execution_count": 43,
   "id": "1f3f9d2c",
   "metadata": {},
   "outputs": [
    {
     "data": {
      "text/plain": [
       "Text(0.5, 1.0, 'K-nearest neighbors algorithm')"
      ]
     },
     "execution_count": 43,
     "metadata": {},
     "output_type": "execute_result"
    },
    {
     "data": {
      "image/png": "[encoded data removed]",
      "text/plain": [
       "<Figure size 432x288 with 1 Axes>"
      ]
     },
     "metadata": {
      "needs_background": "light"
     },
     "output_type": "display_data"
    }
   ],
   "source": [
    "x_KNN=[\"80\", \"5068\"]\n",
    "h_KNN=[round(KNN_100_score*100,2), round(KNN_score*100,2)]\n",
    "plt.bar(x_KNN,h_KNN,width=0.4)\n",
    "plt.xlabel(\"Training data size\")\n",
    "plt.ylabel(\"Accuracy in percentage\")\n",
    "plt.title(\"K-nearest neighbors algorithm\")"
   ]
  },
  {
   "cell_type": "markdown",
   "id": "a7d68de1",
   "metadata": {},
   "source": [
    "## 2. Logistic Regression"
   ]
  },
  {
   "cell_type": "markdown",
   "id": "e48712df",
   "metadata": {},
   "source": [
    "### A. Training data size = 80 rows"
   ]
  },
  {
   "cell_type": "code",
   "execution_count": 44,
   "id": "92aefe7c",
   "metadata": {},
   "outputs": [],
   "source": [
    "LR_100_Classifier = LogisticRegression(random_state=0)"
   ]
  },
  {
   "cell_type": "code",
   "execution_count": 45,
   "id": "8fbb6cc0",
   "metadata": {},
   "outputs": [
    {
     "data": {
      "text/plain": [
       "LogisticRegression(random_state=0)"
      ]
     },
     "execution_count": 45,
     "metadata": {},
     "output_type": "execute_result"
    }
   ],
   "source": [
    "LR_100_Classifier.fit(tfid_x_100_train, y_100_train)"
   ]
  },
  {
   "cell_type": "code",
   "execution_count": 46,
   "id": "4f8a634b",
   "metadata": {},
   "outputs": [
    {
     "name": "stdout",
     "output_type": "stream",
     "text": [
      "score: 0.65\n"
     ]
    }
   ],
   "source": [
    "LR_y_100_pred = LR_100_Classifier.predict(tfid_x_100_test)\n",
    "LR_100_score = accuracy_score(y_100_test,LR_y_100_pred)\n",
    "print('score:', LR_100_score)"
   ]
  },
  {
   "cell_type": "code",
   "execution_count": 47,
   "id": "e5e4831f",
   "metadata": {},
   "outputs": [
    {
     "name": "stdout",
     "output_type": "stream",
     "text": [
      "Accuracy of LR classifier: 65.0 %\n",
      "Confusion matrix of LR classifier with training data size 80 :\n",
      "[[ 2  7]\n",
      " [ 0 11]]\n"
     ]
    }
   ],
   "source": [
    "print('Accuracy of LR classifier:', round(LR_100_score*100,2),'%')\n",
    "LR_100_cf = confusion_matrix(y_100_test,LR_y_100_pred, labels=['FAKE','REAL'])\n",
    "print(\"Confusion matrix of LR classifier with training data size 80 :\")\n",
    "print(LR_100_cf)"
   ]
  },
  {
   "cell_type": "code",
   "execution_count": 48,
   "id": "8db34083",
   "metadata": {},
   "outputs": [
    {
     "data": {
      "image/png": "[encoded data removed]",
      "text/plain": [
       "<Figure size 360x288 with 2 Axes>"
      ]
     },
     "metadata": {
      "needs_background": "light"
     },
     "output_type": "display_data"
    }
   ],
   "source": [
    "plt.figure(figsize=(5,4))\n",
    "sns.heatmap(LR_100_cf, annot = True, fmt = 'd')\n",
    "plt.title(\"Confusion matrix of LR classifier with training data size 80\")\n",
    "plt.show()"
   ]
  },
  {
   "cell_type": "markdown",
   "id": "b6359b2b",
   "metadata": {},
   "source": [
    "### B. Training data size = 5068 rows"
   ]
  },
  {
   "cell_type": "code",
   "execution_count": 49,
   "id": "1fd9fcad",
   "metadata": {},
   "outputs": [],
   "source": [
    "LRClassifier = LogisticRegression(random_state=0)"
   ]
  },
  {
   "cell_type": "code",
   "execution_count": 50,
   "id": "fe1351d4",
   "metadata": {},
   "outputs": [
    {
     "data": {
      "text/plain": [
       "LogisticRegression(random_state=0)"
      ]
     },
     "execution_count": 50,
     "metadata": {},
     "output_type": "execute_result"
    }
   ],
   "source": [
    "LRClassifier.fit(tfid_x_train, y_train)"
   ]
  },
  {
   "cell_type": "code",
   "execution_count": 51,
   "id": "4c55c4ea",
   "metadata": {},
   "outputs": [
    {
     "name": "stdout",
     "output_type": "stream",
     "text": [
      "score: 0.9155485398579322\n"
     ]
    }
   ],
   "source": [
    "LR_y_pred = LRClassifier.predict(tfid_x_test)\n",
    "LR_score = accuracy_score(y_test,LR_y_pred)\n",
    "print('score:', LR_score)"
   ]
  },
  {
   "cell_type": "code",
   "execution_count": 52,
   "id": "143a49d2",
   "metadata": {},
   "outputs": [
    {
     "name": "stdout",
     "output_type": "stream",
     "text": [
      "Accuracy of LR classifier: 91.55 %\n",
      "Confusion matrix of LR classifier with training data size 5068: \n",
      "[[570  45]\n",
      " [ 62 590]]\n"
     ]
    }
   ],
   "source": [
    "print('Accuracy of LR classifier:', round(LR_score*100,2),'%')\n",
    "LR_cf = confusion_matrix(y_test,LR_y_pred, labels=['FAKE','REAL'])\n",
    "print(\"Confusion matrix of LR classifier with training data size 5068: \")\n",
    "print(LR_cf)"
   ]
  },
  {
   "cell_type": "code",
   "execution_count": 53,
   "id": "48f2b09c",
   "metadata": {},
   "outputs": [
    {
     "data": {
      "image/png": "[encoded data removed]",
      "text/plain": [
       "<Figure size 360x288 with 2 Axes>"
      ]
     },
     "metadata": {
      "needs_background": "light"
     },
     "output_type": "display_data"
    }
   ],
   "source": [
    "plt.figure(figsize=(5,4))\n",
    "sns.heatmap(LR_cf, annot = True, fmt = 'd')\n",
    "plt.title(\"Confusion matrix of LR classifier with training data size 5068\")\n",
    "plt.show()"
   ]
  },
  {
   "cell_type": "markdown",
   "id": "c7560476",
   "metadata": {},
   "source": [
    "#### Ploting graph"
   ]
  },
  {
   "cell_type": "code",
   "execution_count": 54,
   "id": "223dd109",
   "metadata": {},
   "outputs": [
    {
     "data": {
      "text/plain": [
       "Text(0.5, 1.0, 'Logistic regression')"
      ]
     },
     "execution_count": 54,
     "metadata": {},
     "output_type": "execute_result"
    },
    {
     "data": {
      "image/png": "[encoded data removed]",
      "text/plain": [
       "<Figure size 432x288 with 1 Axes>"
      ]
     },
     "metadata": {
      "needs_background": "light"
     },
     "output_type": "display_data"
    }
   ],
   "source": [
    "x_LR=[\"80\", \"5068\"]\n",
    "h_LR=[round(LR_100_score*100,2), round(LR_score*100,2)]\n",
    "plt.bar(x_LR,h_LR,width=0.4)\n",
    "plt.xlabel(\"Training data size\")\n",
    "plt.ylabel(\"Accuracy in percentage\")\n",
    "plt.title(\"Logistic regression\")"
   ]
  },
  {
   "cell_type": "markdown",
   "id": "26afe1b7",
   "metadata": {},
   "source": [
    "## 3. Passive agressive classifier"
   ]
  },
  {
   "cell_type": "markdown",
   "id": "4f895898",
   "metadata": {},
   "source": [
    "### A. Training data size = 80 rows"
   ]
  },
  {
   "cell_type": "code",
   "execution_count": 55,
   "id": "47e0a6f1",
   "metadata": {},
   "outputs": [],
   "source": [
    "PA_100_Classifier = PassiveAggressiveClassifier(max_iter=50)"
   ]
  },
  {
   "cell_type": "code",
   "execution_count": 56,
   "id": "c6d37ec8",
   "metadata": {},
   "outputs": [
    {
     "data": {
      "text/plain": [
       "PassiveAggressiveClassifier(max_iter=50)"
      ]
     },
     "execution_count": 56,
     "metadata": {},
     "output_type": "execute_result"
    }
   ],
   "source": [
    "PA_100_Classifier.fit(tfid_x_100_train,y_100_train)"
   ]
  },
  {
   "cell_type": "code",
   "execution_count": 57,
   "id": "ee3d1271",
   "metadata": {},
   "outputs": [
    {
     "name": "stdout",
     "output_type": "stream",
     "text": [
      "score: 0.85\n"
     ]
    }
   ],
   "source": [
    "PAC_y_100_pred = PA_100_Classifier.predict(tfid_x_100_test)\n",
    "PAC_100_score = accuracy_score(y_100_test,PAC_y_100_pred)\n",
    "print('score:', PAC_100_score)"
   ]
  },
  {
   "cell_type": "code",
   "execution_count": 58,
   "id": "6e4acb7a",
   "metadata": {},
   "outputs": [
    {
     "name": "stdout",
     "output_type": "stream",
     "text": [
      "Accuracy of PA classifier: 85.0 %\n",
      "Confusion matrix of PA classifier with training data size 80 :\n",
      "[[ 7  2]\n",
      " [ 1 10]]\n"
     ]
    }
   ],
   "source": [
    "print('Accuracy of PA classifier:', round(PAC_100_score*100,2),'%')\n",
    "PAC_100_cf = confusion_matrix(y_100_test,PAC_y_100_pred, labels=['FAKE','REAL'])\n",
    "print(\"Confusion matrix of PA classifier with training data size 80 :\")\n",
    "print(PAC_100_cf)"
   ]
  },
  {
   "cell_type": "code",
   "execution_count": 59,
   "id": "6fd621a8",
   "metadata": {},
   "outputs": [
    {
     "data": {
      "image/png": "[encoded data removed]",
      "text/plain": [
       "<Figure size 360x288 with 2 Axes>"
      ]
     },
     "metadata": {
      "needs_background": "light"
     },
     "output_type": "display_data"
    }
   ],
   "source": [
    "plt.figure(figsize=(5,4))\n",
    "sns.heatmap(PAC_100_cf, annot = True, fmt = 'd')\n",
    "plt.title(\"Confusion matrix of PA classifier with training data size 80\")\n",
    "plt.show()"
   ]
  },
  {
   "cell_type": "markdown",
   "id": "7df48181",
   "metadata": {},
   "source": [
    "### B. Training data size = 5068 rows"
   ]
  },
  {
   "cell_type": "code",
   "execution_count": 60,
   "id": "74910110",
   "metadata": {},
   "outputs": [],
   "source": [
    "PAClassifier = PassiveAggressiveClassifier(max_iter=50)"
   ]
  },
  {
   "cell_type": "code",
   "execution_count": 61,
   "id": "8f04d10e",
   "metadata": {
    "scrolled": true
   },
   "outputs": [
    {
     "data": {
      "text/plain": [
       "PassiveAggressiveClassifier(max_iter=50)"
      ]
     },
     "execution_count": 61,
     "metadata": {},
     "output_type": "execute_result"
    }
   ],
   "source": [
    "PAClassifier.fit(tfid_x_train,y_train)"
   ]
  },
  {
   "cell_type": "code",
   "execution_count": 62,
   "id": "fc77ff95",
   "metadata": {},
   "outputs": [
    {
     "name": "stdout",
     "output_type": "stream",
     "text": [
      "score: 0.9321231254932912\n"
     ]
    }
   ],
   "source": [
    "PAC_y_pred = PAClassifier.predict(tfid_x_test)\n",
    "PAC_score = accuracy_score(y_test,PAC_y_pred)\n",
    "print('score:', PAC_score)"
   ]
  },
  {
   "cell_type": "code",
   "execution_count": 63,
   "id": "e87fed36",
   "metadata": {},
   "outputs": [
    {
     "name": "stdout",
     "output_type": "stream",
     "text": [
      "Accuracy of PA classifier: 93.21 %\n",
      "Confusion matrix of PA classifier with training data size 5068: \n",
      "[[570  45]\n",
      " [ 41 611]]\n"
     ]
    }
   ],
   "source": [
    "print('Accuracy of PA classifier:', round(PAC_score*100,2),'%')\n",
    "PAC_cf = confusion_matrix(y_test,PAC_y_pred, labels=['FAKE','REAL'])\n",
    "print(\"Confusion matrix of PA classifier with training data size 5068: \")\n",
    "print(PAC_cf)"
   ]
  },
  {
   "cell_type": "code",
   "execution_count": 64,
   "id": "5073d5bf",
   "metadata": {},
   "outputs": [
    {
     "data": {
      "image/png": "[encoded data removed]",
      "text/plain": [
       "<Figure size 360x288 with 2 Axes>"
      ]
     },
     "metadata": {
      "needs_background": "light"
     },
     "output_type": "display_data"
    }
   ],
   "source": [
    "plt.figure(figsize=(5,4))\n",
    "sns.heatmap(PAC_cf, annot = True, fmt = 'd')\n",
    "plt.title(\"Confusion matrix of PA classifier with training data size 5068\")\n",
    "plt.show()"
   ]
  },
  {
   "cell_type": "markdown",
   "id": "10a5f9bc",
   "metadata": {},
   "source": [
    "#### Ploting graph"
   ]
  },
  {
   "cell_type": "code",
   "execution_count": 65,
   "id": "7128e587",
   "metadata": {},
   "outputs": [
    {
     "data": {
      "text/plain": [
       "Text(0.5, 1.0, 'Passive Aggressive Classifier')"
      ]
     },
     "execution_count": 65,
     "metadata": {},
     "output_type": "execute_result"
    },
    {
     "data": {
      "image/png": "[encoded data removed]",
      "text/plain": [
       "<Figure size 432x288 with 1 Axes>"
      ]
     },
     "metadata": {
      "needs_background": "light"
     },
     "output_type": "display_data"
    }
   ],
   "source": [
    "x_PAC=[\"80\", \"5068\"]\n",
    "h_PAC=[round(PAC_100_score*100,2), round(PAC_score*100,2)]\n",
    "plt.bar(x_PAC,h_PAC,width=0.4)\n",
    "plt.xlabel(\"Training data size\")\n",
    "plt.ylabel(\"Accuracy in percentage\")\n",
    "plt.title(\"Passive Aggressive Classifier\")"
   ]
  },
  {
   "cell_type": "markdown",
   "id": "604e06eb",
   "metadata": {},
   "source": [
    "# Comparison of three classifiers"
   ]
  },
  {
   "cell_type": "code",
   "execution_count": 66,
   "id": "11fbb91d",
   "metadata": {},
   "outputs": [
    {
     "data": {
      "image/png": "[encoded data removed]",
      "text/plain": [
       "<Figure size 432x288 with 1 Axes>"
      ]
     },
     "metadata": {
      "needs_background": "light"
     },
     "output_type": "display_data"
    }
   ],
   "source": [
    "training_data_size = [' ','80', '5068']\n",
    "\n",
    "t_KNN = [0, round(KNN_100_score*100,2), round(KNN_score*100,2)]\n",
    "t_LR  = [0, round(LR_100_score*100,2), round(LR_score*100,2)]\n",
    "t_PA  = [0, round(PAC_100_score*100,2), round(PAC_score*100,2)]\n",
    "\n",
    "fig,ax = plt.subplots()\n",
    "width = 0.2\n",
    "\n",
    "temp = [0, 0, 0]\n",
    "t_KNN_1 = [x - width for x in range (len(t_KNN))]\n",
    "t_LR_1 = [x for x in range (len(t_LR))]\n",
    "t_PA_1 = [x + width for x in range (len(t_PA))]\n",
    "\n",
    "ax.bar(t_KNN_1,t_KNN,width, label = \"KNN classifier\")\n",
    "ax.bar(t_LR_1,t_LR,width, label = \"Logistic Regression\")\n",
    "ax.bar(t_PA_1, t_PA, width, label = '''Passive agressive classifier''')\n",
    "\n",
    "ax.set_ylabel(\"Accuracy in percentage\")\n",
    "ax.set_xlabel(\"Training data size\")\n",
    "ax.set_title(\"Comparision of classifiers\")\n",
    "ax.plot(training_data_size, temp, color = 'white')\n",
    "plt.legend()\n",
    "plt.show()"
   ]
  },
  {
   "cell_type": "markdown",
   "id": "f706a3ca",
   "metadata": {},
   "source": [
    "# Using Passive agressive classifier to predict the fake news"
   ]
  },
  {
   "cell_type": "code",
   "execution_count": 67,
   "id": "d80e210d",
   "metadata": {},
   "outputs": [],
   "source": [
    "def fake_news_det(news):\n",
    "    input_data = [news]\n",
    "    vectorized_input_data = tfvect.transform(input_data)\n",
    "    prediction = PAClassifier.predict(vectorized_input_data)\n",
    "    print(prediction)"
   ]
  },
  {
   "cell_type": "code",
   "execution_count": 68,
   "id": "b9aab066",
   "metadata": {},
   "outputs": [
    {
     "name": "stdout",
     "output_type": "stream",
     "text": [
      "['FAKE']\n"
     ]
    }
   ],
   "source": [
    "fake_news_det(\"\"\" Arnaldo Rodgers is a trained and educated Psychologist. He has worked as a community organizer and \n",
    "activist. “Honor Our Immigrant Veterans” Replayed By Arnaldo Rodgers on November 8, 2016 Veterans By elizawhig \n",
    "“Honor Our Immigrant Veterans” from VoteVets is a video on Youtube I tripped over recently, and have watched several \n",
    "times. It is that good. Another Kossack may have already posted it, but I would like to get it some play. Not because \n",
    "I think it will change any voter’s mind, but because it deserves to be seen to remind us of who we are as Americans. \n",
    "We are all immigrants or the children of immigrants, and we and our relatives and grandparents have had to make tough \n",
    "choices that deserve to be remembered. I had an uncle (by marriage) who was Italian. In 1940 he was still not a US \n",
    "citizen, although I gather he had begun the process, so he was sent to an internment camp in Wyoming (or Montana?). \n",
    "While he waited for his citizenship application to be completed, he and his fellow detainees played a lot of poker. \n",
    "His papers were finally processed, he was made a US Citizen, then was promptly drafted into the US Army as a Sargent \n",
    "(Supply). And of course he was sent to…Italy. His division survived Anzio, then my uncle came into his glory. His \n",
    "father was someone of importance further north, so he had connections. He was able to secure excellent billets (in a \n",
    "castle) and good food and drink for his comrades. \"\"\")"
   ]
  },
  {
   "cell_type": "code",
   "execution_count": 69,
   "id": "071f8fd7",
   "metadata": {},
   "outputs": [
    {
     "name": "stdout",
     "output_type": "stream",
     "text": [
      "['FAKE']\n"
     ]
    }
   ],
   "source": [
    "fake_news_det(\"\"\"Here is Elon Musk’s True Mars On Earth Plan 11/01/2016 GAME N GUIDE Elon Musk, the founder of SpaceX \n",
    "recently held a Reddit Ask Me Anything session at 6:00 p.m. ET on Oct. 23. The session was said to be a follow-up to \n",
    "the executive’s speech in Mexico last month. Musk unveiled his plans for a refueling site and eventually habitation in\n",
    "the methane-rich planet. SpaceX is said to have raised more questions lately than it has revealed. The inventor and \n",
    "conglomerate went to Twitter to announce the session, Engadget reported. For instance, the company’s plan on \n",
    "colonizing Mars is yet to be discussed as well as the reliability of its space rockets and how it can be improved. In \n",
    "addition, the company also previously revealed that it would be reusing their rockets but have kept mum on how. \n",
    "Previously, Musk had a speech at the International Astronautical Congress in Guadalajara, Mexico in September. In the \n",
    "said Congress, Musk revealed his plans of sending humans to Mars apparently costing a whooping $10 billion each. \n",
    "Moreover he stated that humans will be turned into a multi-planetary species within the span of 40 years to a century.\n",
    "Musk revealed his vision with massive reusable rockets launching into a parking orbit stating that the rockets may be \n",
    "refueled by propellant tankers. Additionally, Musk plans to launch a thousand spaceships with a hundred people each \n",
    "en masse for Mars. He further revealed that a refueling station would be placed on the red planet to harvest methane \n",
    "fuel so settlers may come back to Earth. Hence, the first rocket to be sent is the Dragon spacecraft to search for a \n",
    "site to plant the refueling station followed by a spaceship with equipment to build the refueling station, LA Times \n",
    "reported. Musk went on to describe his ideal vision for human habitation on Mars. Musk revealed that glass panels \n",
    "with carbon fiber frames would be brought to the red planet to build geodesic domes on the planet’s surface. \n",
    "Furthermore, several miner and tunneling droids would also be sent to Mars. The droids are expected to be used to \n",
    "build large quantities of pressurized space for industrial operations along with glass domes for green living. \n",
    "Watch Elon Musk’s Mars colonization event in 5 minutes. \"\"\")"
   ]
  },
  {
   "cell_type": "code",
   "execution_count": null,
   "id": "6df4d341",
   "metadata": {},
   "outputs": [],
   "source": []
  }
 ],
 "metadata": {
  "kernelspec": {
   "display_name": "Python 3 (ipykernel)",
   "language": "python",
   "name": "python3"
  },
  "language_info": {
   "codemirror_mode": {
    "name": "ipython",
    "version": 3
   },
   "file_extension": ".py",
   "mimetype": "text/x-python",
   "name": "python",
   "nbconvert_exporter": "python",
   "pygments_lexer": "ipython3",
   "version": "3.9.7"
  }
 },
 "nbformat": 4,
 "nbformat_minor": 5
}
